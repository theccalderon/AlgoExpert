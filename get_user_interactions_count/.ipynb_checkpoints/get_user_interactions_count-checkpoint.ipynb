{
 "cells": [
  {
   "cell_type": "code",
   "execution_count": 4,
   "id": "d2d9023e-7248-4548-9763-1f2da50ea490",
   "metadata": {},
   "outputs": [],
   "source": [
    "import pandas as pd\n",
    "from datetime import datetime, timedelta"
   ]
  },
  {
   "cell_type": "code",
   "execution_count": 3,
   "id": "8bc491c5-20ee-4416-8059-b72c2c0b0ef2",
   "metadata": {},
   "outputs": [
    {
     "ename": "SyntaxError",
     "evalue": "incomplete input (233719375.py, line 2)",
     "output_type": "error",
     "traceback": [
      "\u001b[0;36m  Cell \u001b[0;32mIn[3], line 2\u001b[0;36m\u001b[0m\n\u001b[0;31m    \u001b[0m\n\u001b[0m    ^\u001b[0m\n\u001b[0;31mSyntaxError\u001b[0m\u001b[0;31m:\u001b[0m incomplete input\n"
     ]
    }
   ],
   "source": [
    "def get_user_interaction_counts(search_interaction_df):\n",
    "    new_df = search_interaction_df.toPandas()\n",
    "    # print(new_df.head())\n",
    "    sorted_df = new_df.sort_values(by=[\"date\"], ascending=False)\n",
    "    # print(sorted_df.head())\n",
    "    last_date = sorted_df.iloc[0][\"date\"]\n",
    "    last_date_datetime = datetime.strptime(last_date, \"%Y-%m-%d\")\n",
    "    # print(last_date)\n",
    "    last_week_date = last_date_datetime - timedelta(days=7)\n",
    "    last_month_date = last_date_datetime - timedelta(days=30)\n",
    "    last_day_date = last_date_datetime - timedelta(days=1)\n",
    "\n",
    "    # new pandas dataframe\n",
    "    final_df = pd.DataFrame(columns=['user_id', 'month_interaction_count','week_interaction_count', 'day_interaction_count'])\n",
    "    final_df = new_df.groupby(\"user_id\")\n",
    "    \n",
    "    return final_df"
   ]
  },
  {
   "cell_type": "code",
   "execution_count": null,
   "id": "c050fba0-74bc-4e18-9f53-c3d0303da499",
   "metadata": {},
   "outputs": [],
   "source": []
  }
 ],
 "metadata": {
  "kernelspec": {
   "display_name": "Python 3 (ipykernel)",
   "language": "python",
   "name": "python3"
  },
  "language_info": {
   "codemirror_mode": {
    "name": "ipython",
    "version": 3
   },
   "file_extension": ".py",
   "mimetype": "text/x-python",
   "name": "python",
   "nbconvert_exporter": "python",
   "pygments_lexer": "ipython3",
   "version": "3.11.5"
  }
 },
 "nbformat": 4,
 "nbformat_minor": 5
}
